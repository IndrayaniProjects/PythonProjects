{
 "cells": [
  {
   "cell_type": "code",
   "execution_count": 3,
   "id": "54946ec0-40b6-4eaf-8ac1-e72e4255baab",
   "metadata": {},
   "outputs": [
    {
     "name": "stdout",
     "output_type": "stream",
     "text": [
      "1.68\n"
     ]
    }
   ],
   "source": [
    "foo = 1.67839999999\n",
    "print(round(foo,2))"
   ]
  },
  {
   "cell_type": "code",
   "execution_count": 4,
   "id": "b90b3bd2-24ac-42df-98f5-0e823e1b5bb9",
   "metadata": {},
   "outputs": [
    {
     "data": {
      "text/plain": [
       "complex"
      ]
     },
     "execution_count": 4,
     "metadata": {},
     "output_type": "execute_result"
    }
   ],
   "source": [
    "c1 = 5+8j\n",
    "type(c1)"
   ]
  },
  {
   "cell_type": "code",
   "execution_count": 5,
   "id": "dc477ea5-fd1f-49b2-9a5e-fffe8f58f9be",
   "metadata": {},
   "outputs": [
    {
     "name": "stdout",
     "output_type": "stream",
     "text": [
      "(8+14j)\n"
     ]
    }
   ],
   "source": [
    "c2 = 3+6j\n",
    "c3 = c1+c2\n",
    "print(c3)"
   ]
  },
  {
   "cell_type": "code",
   "execution_count": 1,
   "id": "5507247b-209d-4cc8-9c30-202d91a9a80b",
   "metadata": {},
   "outputs": [
    {
     "name": "stdout",
     "output_type": "stream",
     "text": [
      "4782.4\n"
     ]
    }
   ],
   "source": [
    "fLength = 98\n",
    "fWidth = 48.8\n",
    "area = fLength*fWidth\n",
    "print(area)"
   ]
  },
  {
   "cell_type": "code",
   "execution_count": 16,
   "id": "63373ff9-b51e-438e-9118-bdf69a1d8f2c",
   "metadata": {},
   "outputs": [
    {
     "name": "stdout",
     "output_type": "stream",
     "text": [
      "Enter the number of packets purchased:  10\n"
     ]
    },
    {
     "name": "stdout",
     "output_type": "stream",
     "text": [
      "10\n",
      "14.9\n"
     ]
    },
    {
     "name": "stdout",
     "output_type": "stream",
     "text": [
      "Enter the money you have given to the shop keeper:  20\n"
     ]
    },
    {
     "name": "stdout",
     "output_type": "stream",
     "text": [
      "The money to return are: 5.1\n"
     ]
    }
   ],
   "source": [
    "pCost = 1.49\n",
    "pNum = input('Enter the number of packets purchased: ')\n",
    "print(pNum)\n",
    "tCost= pCost*float(pNum)\n",
    "print(tCost)\n",
    "cNum = input('Enter the money you have given to the shop keeper: ')\n",
    "changeReturn = float(cNum) - float(tCost)\n",
    "print(f'The money to return are: {changeReturn}')"
   ]
  },
  {
   "cell_type": "code",
   "execution_count": 2,
   "id": "a132847d-b31f-43dd-baeb-632caf5d88c2",
   "metadata": {},
   "outputs": [
    {
     "name": "stdout",
     "output_type": "stream",
     "text": [
      "The total cost is :  15125.0\n"
     ]
    }
   ],
   "source": [
    "bLength = 5.5\n",
    "bArea = bLength ** 2\n",
    "cost = bArea * 500\n",
    "print ('The total cost is : ', cost)"
   ]
  },
  {
   "cell_type": "code",
   "execution_count": 4,
   "id": "39f0e10d-e520-4385-8fdc-aae500d11c1b",
   "metadata": {},
   "outputs": [
    {
     "name": "stdout",
     "output_type": "stream",
     "text": [
      "Binary number of 17 is :  10001\n"
     ]
    }
   ],
   "source": [
    "#Print binary value of the number\n",
    "num = 17\n",
    "print('Binary number of 17 is : ', format(num,'b'))"
   ]
  },
  {
   "cell_type": "code",
   "execution_count": null,
   "id": "d5e5b7be-af78-43ed-a785-fe64c1f24fc7",
   "metadata": {},
   "outputs": [],
   "source": [
    "\n"
   ]
  },
  {
   "cell_type": "code",
   "execution_count": null,
   "id": "4c752a8d-18c0-4972-a96a-ce0fe18ba36a",
   "metadata": {},
   "outputs": [],
   "source": []
  }
 ],
 "metadata": {
  "kernelspec": {
   "display_name": "Python 3 (ipykernel)",
   "language": "python",
   "name": "python3"
  },
  "language_info": {
   "codemirror_mode": {
    "name": "ipython",
    "version": 3
   },
   "file_extension": ".py",
   "mimetype": "text/x-python",
   "name": "python",
   "nbconvert_exporter": "python",
   "pygments_lexer": "ipython3",
   "version": "3.12.0"
  }
 },
 "nbformat": 4,
 "nbformat_minor": 5
}
